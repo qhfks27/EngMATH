{
  "nbformat": 4,
  "nbformat_minor": 0,
  "metadata": {
    "colab": {
      "name": "Engineeringmath_finalproject 16101769 박보란.ipynb",
      "provenance": [],
      "collapsed_sections": [],
      "include_colab_link": true
    },
    "kernelspec": {
      "name": "python3",
      "display_name": "Python 3"
    }
  },
  "cells": [
    {
      "cell_type": "markdown",
      "metadata": {
        "id": "view-in-github",
        "colab_type": "text"
      },
      "source": [
        "<a href=\"https://colab.research.google.com/github/qhfks27/EngMATH/blob/master/Engineeringmath_finalproject_16101769_%EB%B0%95%EB%B3%B4%EB%9E%80.ipynb\" target=\"_parent\"><img src=\"https://colab.research.google.com/assets/colab-badge.svg\" alt=\"Open In Colab\"/></a>"
      ]
    },
    {
      "cell_type": "markdown",
      "metadata": {
        "id": "xoWoeN7rkvXd",
        "colab_type": "text"
      },
      "source": [
        "## Laplace's Equation in the Sphere\n",
        "(a) Solve this problem by separation of variables\n",
        "\n",
        "$\\nabla^2u= u_{rr}+\\frac{2}{r} u_r+\\frac{1}{r^2} u_{\\phi\\phi}+\\frac{\\cot\\phi}{r^2}u_{\\phi}+\\frac{1}{r^2\\sin^2\\phi}u_{\\theta\\theta}=0$ \n",
        "\n",
        "$u(r,{\\phi},\\theta)=R(r)Y(\\phi,\\theta)$ 변수분리한다.\n",
        "\n",
        "$R''Y+\\frac{2}{r}R'Y+\\frac{1}{r^2}RY_{\\phi\\phi}+\\frac{\\cot\\phi}{r^2}Y_{\\phi}+\\frac{1}{r^2\\sin^2\\phi}Y_{\\theta\\theta}=0$  \n",
        "$(-r^2)(\\frac{R''}{R}+\\frac{2}{r}\\frac{R'}{R})=\\frac{1}{Y}(Y_{\\phi\\phi}+\\cot{\\phi}Y_{\\phi}+\\frac{1}{sin^2\\phi}Y_{\\theta\\theta})=-\\lambda$  \n",
        "\n",
        "$r^2R''+2rR'-\\lambda R=0$ \n",
        "\n",
        " $Y_{\\phi\\phi}+\\cot{\\phi}Y_{\\phi}+\\frac{1}{\\sin^2{\\phi}}Y_{\\theta\\theta}+Y\\lambda = 0$ \n",
        "\n",
        "$Y(\\phi,\\theta)=\\Phi(\\phi)\\Theta(\\theta)$로 변수분리한다. \n",
        "\n",
        "$(\\sin^2\\phi)\\frac{\\Phi''+\\cot\\phi\\Phi' + \\lambda\\Phi}{\\Phi}=-\\frac{\\Theta''}{\\Theta}=\\mu$\n",
        "\n",
        "\n",
        "(b) derive  $K(r,ϕ,θ;R,φ,ϑ)$  in the equivalent integral formula.\n",
        "\n"
      ]
    },
    {
      "cell_type": "markdown",
      "metadata": {
        "id": "399V5dXorqQl",
        "colab_type": "text"
      },
      "source": [
        "## Poisson's Equation for the Sphere \n",
        "(a) solve by taking the finite Fourier Transforms\n",
        "(b) derive  $G(r,ϕ,θ;ρ,φ,ϑ)$  in the equivalent integral formula"
      ]
    }
  ]
}